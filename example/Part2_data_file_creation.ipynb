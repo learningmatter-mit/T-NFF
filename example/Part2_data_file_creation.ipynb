{
 "cells": [
  {
   "cell_type": "markdown",
   "metadata": {},
   "source": [
    "# Tutorial to build condense phase dataset for CG simulations "
   ]
  },
  {
   "cell_type": "code",
   "execution_count": 1,
   "metadata": {},
   "outputs": [],
   "source": [
    "import sys\n",
    "import numpy as np\n",
    "from importlib import reload\n",
    "import torch\n",
    "from torch.utils.data import DataLoader\n",
    "import pandas as pd\n",
    "import matplotlib.pyplot as plt\n",
    "from itertools import islice\n",
    "\n",
    "\n",
    "sys.path.insert(0, '/path/to/temp_graph/')\n",
    "\n",
    "from nff.utils.fixing_pbc import get_box_dimensions_pbc, split_mol, trajconv, combine_mol\n",
    "from nff.utils.utilities import reorganize\n",
    "\n",
    "import pickle \n",
    "from nff.data.dataset import Dataset\n",
    "from nff.io.ase import NeuralFF, AtomsBatch, BulkPhaseMaterials\n",
    "from ase import Atoms\n"
   ]
  },
  {
   "cell_type": "markdown",
   "metadata": {},
   "source": [
    "# Ionic liquid"
   ]
  },
  {
   "cell_type": "code",
   "execution_count": 2,
   "metadata": {},
   "outputs": [],
   "source": [
    "# This data has 300 1-Butyl-3-methylimidazolium tetrafluoroborate molecules \n",
    "# with periodic box, each molecule set has 30 atoms \n",
    "# the coarse-grained representation reduce 30 atoms to 4 psudo atoms \n",
    "\n",
    "N = 300\n",
    "ils_mol = [[7, 6, 7, 6, 6, 6, 1, 6, 1, 1, 1, 1, 1, 6, 1, 1, 6, 1, 1, 6, 1, 1, 1, 1, 1],[5, 9, 9, 9, 9]]\n",
    "N_cation = 25\n",
    "N_anion = 5\n",
    "N_atom = N_cation + N_anion\n",
    "PATH = './data'\n",
    "xyz_name = '{}/unif_batch_100_p300_T300_xyz.xyz'.format(PATH)\n",
    "force_name = '{}/unif_batch_100_p300_T300_force.dat'.format(PATH)\n"
   ]
  },
  {
   "cell_type": "code",
   "execution_count": 3,
   "metadata": {},
   "outputs": [],
   "source": [
    "temp = 300\n",
    "N_cg = 5\n",
    "CG_map = np.array([[1., 1., 0., 0., 0., 1., 1., 0., 0., 0., 1., 1., 1., 0., 0., 0.,\n",
    "                    0., 0., 0., 0., 0., 0., 0., 0., 0., 0., 0., 0., 0., 0.],\n",
    "                   [0., 0., 0., 1., 1., 0., 0., 0., 1., 1., 0., 0., 0., 0., 0., 0.,\n",
    "                    0., 0., 0., 0., 0., 0., 0., 0., 0., 0., 0., 0., 0., 0.],\n",
    "                   [0., 0., 1., 0., 0., 0., 0., 1., 0., 0., 0., 0., 0., 1., 1., 1.,\n",
    "                    0., 1., 1., 0., 0., 0., 0., 0., 0., 0., 0., 0., 0., 0.],\n",
    "                   [0., 0., 0., 0., 0., 0., 0., 0., 0., 0., 0., 0., 0., 0., 0., 0.,\n",
    "                    1., 0., 0., 1., 1., 1., 1., 1., 1., 0., 0., 0., 0., 0.],\n",
    "                   [0., 0., 0., 0., 0., 0., 0., 0., 0., 0., 0., 0., 0., 0., 0., 0.,\n",
    "                    0., 0., 0., 0., 0., 0., 0., 0., 0., 1., 1., 1., 1., 1.]])\n",
    "N = 300\n",
    "ils_mol = [[7, 6, 7, 6, 6, 6, 1, 6, 1, 1, 1, 1, 1, 6, 1, 1, 6, 1, 1, 6, 1, 1, 1, 1, 1],[5, 9, 9, 9, 9]]\n",
    "N_cation = 25\n",
    "N_anion = 5\n",
    "N_atom = N_cation + N_anion\n",
    "ionic_mol = Atoms( numbers=[7, 6, 7, 6, 6, 6, 1, 6, 1, 1, 1, 1, 1, 6,\n",
    "                            1, 1, 6, 1, 1, 6, 1, 1, 1, 1, 1,\n",
    "                            5, 9, 9, 9, 9])\n",
    "CG_com = CG_map * ionic_mol.get_masses() / (CG_map  *  ionic_mol.get_masses()).sum(1)[:, None]"
   ]
  },
  {
   "cell_type": "code",
   "execution_count": 4,
   "metadata": {},
   "outputs": [
    {
     "name": "stdout",
     "output_type": "stream",
     "text": [
      "Done sorting\n"
     ]
    }
   ],
   "source": [
    "ils_matrix, timestep_amount = split_mol(N, N_cation, N_anion, xyz_name)\n",
    "\n",
    "cell = get_box_dimensions_pbc(force_name, timestep_amount)\n",
    "converted_mol = [[],[]]\n",
    "for i, ils in enumerate(ils_matrix):\n",
    "    converted_mol[i] = trajconv(N, ils_mol[i], cell, mol_matrix=ils)\n",
    "\n",
    "\n",
    "complete_traj = combine_mol(timestep_amount, converted_mol, N, N_atom, N_cation, N_anion, write=False)\n",
    "sorted_forces = reorganize(N_cation, N_anion, N, force_name, 'force')\n",
    "\n",
    "cg_xyz = np.matmul(CG_com, complete_traj)\n",
    "cg_force = np.matmul(CG_map, sorted_forces)"
   ]
  },
  {
   "cell_type": "code",
   "execution_count": 5,
   "metadata": {
    "scrolled": true
   },
   "outputs": [
    {
     "name": "stdout",
     "output_type": "stream",
     "text": [
      "pre mapping force (99, 300, 30, 3)\n",
      "post mapping force (99, 300, 5, 3)\n",
      "mapping (5, 30)\n"
     ]
    }
   ],
   "source": [
    "print('pre mapping force', sorted_forces.shape)\n",
    "print('post mapping force', cg_force.shape)\n",
    "print('mapping', CG_map.shape)"
   ]
  },
  {
   "cell_type": "code",
   "execution_count": 6,
   "metadata": {},
   "outputs": [
    {
     "name": "stdout",
     "output_type": "stream",
     "text": [
      "processing frame number 10\n",
      "Time to do the next 100 steps is 22.248717308044434\n",
      "processing frame number 20\n",
      "Time to do the next 100 steps is 20.871257781982422\n",
      "processing frame number 30\n",
      "Time to do the next 100 steps is 21.122065544128418\n",
      "processing frame number 40\n",
      "Time to do the next 100 steps is 22.04968762397766\n",
      "processing frame number 50\n",
      "Time to do the next 100 steps is 20.80204200744629\n",
      "processing frame number 60\n",
      "Time to do the next 100 steps is 21.950146913528442\n",
      "processing frame number 70\n",
      "Time to do the next 100 steps is 21.938452005386353\n",
      "processing frame number 80\n",
      "Time to do the next 100 steps is 21.673056602478027\n",
      "processing frame number 90\n",
      "Time to do the next 100 steps is 21.416696071624756\n"
     ]
    }
   ],
   "source": [
    "import time\n",
    "Atoms_batch_list = []\n",
    "\n",
    "cell_new = [[0, 0, 0], \n",
    "            [0, 0, 0],\n",
    "            [0, 0, 0]]\n",
    "for i, dim in enumerate(cell):\n",
    "    cell_new[i][i] = dim\n",
    "\n",
    "start = time.time()\n",
    "for i, frame in enumerate(cg_xyz):\n",
    "\n",
    "    if i % 10 == 0 and i != 0:\n",
    "        end = time.time()\n",
    "        print(\"processing frame number {}\".format(i))\n",
    "        print(\"Time to do the next 10 steps is {}\".format( end - start ))\n",
    "#         time_list[round(i/10)] = end - start\n",
    "        start = time.time()\n",
    "\n",
    "    props = dict()\n",
    "    props[\"num_subgraphs\"] = torch.LongTensor( [N_cg-1, 1] * N )\n",
    "    props[\"num_atoms\"] = torch.LongTensor([N * (N_cg)])\n",
    "    props[\"energy_grad\"] = -torch.Tensor( cg_force[i] )\n",
    "\n",
    "    box = BulkPhaseMaterials(numbers=[1, 2, 3, 4, 5] * N, \n",
    "                           positions=frame.reshape(N * N_cg, 3),\n",
    "                           cell=cell_new,\n",
    "                           pbc=True,\n",
    "                           props=props\n",
    "                            )\n",
    "\n",
    "    # Note there are two cutoffs here, corresponding to the intramolecular and intermolecular cutoff \n",
    "    box.update_atoms_nbr_list(7) # changing the cutoff to have the correct atom neighbors\n",
    "    box.update_system_nbr_list(8)\n",
    "\n",
    "\n",
    "    Atoms_batch_list.append(box)\n",
    "\n"
   ]
  },
  {
   "cell_type": "code",
   "execution_count": 7,
   "metadata": {},
   "outputs": [],
   "source": [
    "props = {\n",
    "    'nxyz': [atomsbatch.get_nxyz() for atomsbatch in Atoms_batch_list], # atomic number and xyz \n",
    "    'energy_grad': [-force for force in cg_force], # negative forces \n",
    "    'num_subgraphs': [atomsbatch.props['num_subgraphs'] for atomsbatch in Atoms_batch_list], # number of subgraphs \n",
    "    'num_atoms': [atomsbatch.props['num_atoms'] for atomsbatch in Atoms_batch_list], # total number of atoms \n",
    "    'atoms_nbr_list': [atomsbatch.atoms_nbr_list  for atomsbatch in Atoms_batch_list], # intramolecular_nbr_list \n",
    "    'nbr_list': [atomsbatch.nbr_list for atomsbatch in Atoms_batch_list], # intermolecular_nbr_list \n",
    "    'offsets': [atomsbatch.offsets for atomsbatch in Atoms_batch_list], # Pytorch glitch\" torch.sparse tensor has no storage, so we need to send it back to dense tensor \n",
    "    'cell': [atomsbatch.get_cell() for atomsbatch in Atoms_batch_list] # cell dimensions \n",
    "}"
   ]
  },
  {
   "cell_type": "code",
   "execution_count": 8,
   "metadata": {},
   "outputs": [],
   "source": [
    "pickle.dump(props, open( \"./data/p300_CG_T{}_intra7_inter8.pkl\".format(temp), \"wb\" ) )"
   ]
  },
  {
   "cell_type": "code",
   "execution_count": null,
   "metadata": {},
   "outputs": [],
   "source": []
  }
 ],
 "metadata": {
  "kernelspec": {
   "display_name": "Python 3",
   "language": "python",
   "name": "python3"
  },
  "language_info": {
   "codemirror_mode": {
    "name": "ipython",
    "version": 3
   },
   "file_extension": ".py",
   "mimetype": "text/x-python",
   "name": "python",
   "nbconvert_exporter": "python",
   "pygments_lexer": "ipython3",
   "version": "3.7.4"
  }
 },
 "nbformat": 4,
 "nbformat_minor": 2
}
